{
 "cells": [
  {
   "cell_type": "markdown",
   "id": "dcbc4c20-a27e-4bbe-9e4d-e59a04c3bb50",
   "metadata": {},
   "source": [
    "# References \n",
    "\n",
    "- https://jonschlinkert.github.io/remarkable/demo/\n",
    "\n",
    "- http://geojson.io/\n",
    "\n",
    "\n",
    "- https://www.youtube.com/watch?v=8Y0qQEh7dJg\n",
    "    - derek banas numpy\n",
    "    \n",
    "- https://www.youtube.com/watch?v=LOQHYn7BLAg\n",
    "    - derek banas - data frames etc"
   ]
  },
  {
   "cell_type": "markdown",
   "id": "d8c1f436-0bd5-4b98-bec4-ec3ad1519244",
   "metadata": {},
   "source": [
    "# Jupyter\n",
    "\n",
    "- https://www.youtube.com/watch?v=jZ952vChhuI\n",
    "\n",
    "- https://www.youtube.com/watch?v=HW29067qVWk&t=5s\n",
    "     - corey schafer"
   ]
  },
  {
   "cell_type": "code",
   "execution_count": 1,
   "id": "862e0d02-ccfb-4388-a177-7b34a687d0a2",
   "metadata": {},
   "outputs": [
    {
     "name": "stdout",
     "output_type": "stream",
     "text": [
      "hello\n"
     ]
    }
   ],
   "source": [
    "print (\"hello\")"
   ]
  },
  {
   "cell_type": "code",
   "execution_count": 2,
   "id": "5c14318f-4376-444d-92db-eb5a3490c94f",
   "metadata": {},
   "outputs": [
    {
     "name": "stdout",
     "output_type": "stream",
     "text": [
      "this is bash\n"
     ]
    }
   ],
   "source": [
    "! echo this is bash"
   ]
  },
  {
   "cell_type": "markdown",
   "id": "9d97e5d2-8e69-483d-8283-a4d60cab04f9",
   "metadata": {},
   "source": [
    "# now this is markdown "
   ]
  },
  {
   "cell_type": "code",
   "execution_count": 3,
   "id": "df2c07e7-5106-4059-b10e-89936a10f46b",
   "metadata": {},
   "outputs": [],
   "source": [
    "# this is just a comment"
   ]
  },
  {
   "cell_type": "code",
   "execution_count": 5,
   "id": "0b3aae0c-a661-4b00-a819-99841dd4693e",
   "metadata": {},
   "outputs": [
    {
     "name": "stdout",
     "output_type": "stream",
     "text": [
      "opt\n",
      "START.sh\n",
      "x-api-key\n",
      "HOME=/home/ec2-user\n"
     ]
    }
   ],
   "source": [
    "%%bash\n",
    "\n",
    "ls ~\n",
    "\n",
    "env | grep HOME"
   ]
  },
  {
   "cell_type": "code",
   "execution_count": 6,
   "id": "7fca0946-1464-4527-bf59-d61d9f52852c",
   "metadata": {},
   "outputs": [
    {
     "name": "stdout",
     "output_type": "stream",
     "text": [
      "PROJ_LIB=/opt/miniconda3/envs/paulbv1/share/proj\n",
      "XDG_SESSION_ID=1\n",
      "GDAL_DRIVER_PATH=/opt/miniconda3/envs/paulbv1/lib/gdalplugins\n",
      "HOSTNAME=ip-10-12-70-167.us-west-2.compute.internal\n",
      "TERM=xterm-color\n",
      "SHELL=/bin/bash\n",
      "CLICOLOR=1\n",
      "HISTSIZE=1000\n",
      "SSH_CLIENT=158.68.232.207 19386 22\n",
      "CONDA_SHLVL=2\n",
      "CONDA_PROMPT_MODIFIER=(paulbv1) \n",
      "GSETTINGS_SCHEMA_DIR_CONDA_BACKUP=\n",
      "SSH_TTY=/dev/pts/0\n",
      "USER=ec2-user\n",
      "LS_COLORS=rs=0:di=01;34:ln=01;36:mh=00:pi=40;33:so=01;35:do=01;35:bd=40;33;01:cd=40;33;01:or=40;31;01:mi=01;05;37;41:su=37;41:sg=30;43:ca=30;41:tw=30;42:ow=34;42:st=37;44:ex=01;32:*.tar=01;31:*.tgz=01;31:*.arc=01;31:*.arj=01;31:*.taz=01;31:*.lha=01;31:*.lz4=01;31:*.lzh=01;31:*.lzma=01;31:*.tlz=01;31:*.txz=01;31:*.tzo=01;31:*.t7z=01;31:*.zip=01;31:*.z=01;31:*.Z=01;31:*.dz=01;31:*.gz=01;31:*.lrz=01;31:*.lz=01;31:*.lzo=01;31:*.xz=01;31:*.bz2=01;31:*.bz=01;31:*.tbz=01;31:*.tbz2=01;31:*.tz=01;31:*.deb=01;31:*.rpm=01;31:*.jar=01;31:*.war=01;31:*.ear=01;31:*.sar=01;31:*.rar=01;31:*.alz=01;31:*.ace=01;31:*.zoo=01;31:*.cpio=01;31:*.7z=01;31:*.rz=01;31:*.cab=01;31:*.jpg=01;35:*.jpeg=01;35:*.gif=01;35:*.bmp=01;35:*.pbm=01;35:*.pgm=01;35:*.ppm=01;35:*.tga=01;35:*.xbm=01;35:*.xpm=01;35:*.tif=01;35:*.tiff=01;35:*.png=01;35:*.svg=01;35:*.svgz=01;35:*.mng=01;35:*.pcx=01;35:*.mov=01;35:*.mpg=01;35:*.mpeg=01;35:*.m2v=01;35:*.mkv=01;35:*.webm=01;35:*.ogm=01;35:*.mp4=01;35:*.m4v=01;35:*.mp4v=01;35:*.vob=01;35:*.qt=01;35:*.nuv=01;35:*.wmv=01;35:*.asf=01;35:*.rm=01;35:*.rmvb=01;35:*.flc=01;35:*.avi=01;35:*.fli=01;35:*.flv=01;35:*.gl=01;35:*.dl=01;35:*.xcf=01;35:*.xwd=01;35:*.yuv=01;35:*.cgm=01;35:*.emf=01;35:*.axv=01;35:*.anx=01;35:*.ogv=01;35:*.ogx=01;35:*.aac=01;36:*.au=01;36:*.flac=01;36:*.mid=01;36:*.midi=01;36:*.mka=01;36:*.mp3=01;36:*.mpc=01;36:*.ogg=01;36:*.ra=01;36:*.wav=01;36:*.axa=01;36:*.oga=01;36:*.spx=01;36:*.xspf=01;36:\n",
      "CONDA_EXE=/opt/miniconda3/bin/conda\n",
      "JPY_PARENT_PID=6182\n",
      "PAGER=cat\n",
      "_CE_CONDA=\n",
      "CONDA_PREFIX_1=/opt/miniconda3\n",
      "CPL_ZIP_ENCODING=UTF-8\n",
      "MAIL=/var/spool/mail/ec2-user\n",
      "PATH=/opt/miniconda3/envs/paulbv1/bin:/opt/miniconda3/condabin:/opt/miniconda3/bin:/usr/local/bin:/usr/bin:/usr/local/sbin:/usr/sbin:/home\n",
      "PROJ_NETWORK=ON\n",
      "GSETTINGS_SCHEMA_DIR=/opt/miniconda3/envs/paulbv1/share/glib-2.0/schemas\n",
      "_=/usr/bin/env\n",
      "CONDA_PREFIX=/opt/miniconda3/envs/paulbv1\n",
      "PWD=/data/ec2-user/home/opt/paulb/0_notebooks\n",
      "MPLBACKEND=module://matplotlib_inline.backend_inline\n",
      "LANG=en_US.UTF-8\n",
      "GDAL_DATA=/opt/miniconda3/envs/paulbv1/share/gdal\n",
      "_CE_M=\n",
      "HISTCONTROL=ignoredups\n",
      "SHLVL=3\n",
      "HOME=/home/ec2-user\n",
      "CONDA_PYTHON_EXE=/opt/miniconda3/bin/python\n",
      "LOGNAME=ec2-user\n",
      "SSH_CONNECTION=158.68.232.207 19386 10.12.70.167 22\n",
      "CONDA_DEFAULT_ENV=paulbv1\n",
      "LESSOPEN=||/usr/bin/lesspipe.sh %s\n",
      "XDG_RUNTIME_DIR=/run/user/1000\n",
      "GIT_PAGER=cat\n"
     ]
    }
   ],
   "source": [
    "! env"
   ]
  },
  {
   "cell_type": "code",
   "execution_count": 7,
   "id": "fb4093b4-1d93-451d-9019-3e77a0bb259a",
   "metadata": {},
   "outputs": [
    {
     "name": "stdout",
     "output_type": "stream",
     "text": [
      "/home/ec2-user\n"
     ]
    }
   ],
   "source": [
    "! echo $HOME"
   ]
  },
  {
   "cell_type": "code",
   "execution_count": 8,
   "id": "dd195f47-f128-4f8b-8926-f36a3eedb34e",
   "metadata": {},
   "outputs": [
    {
     "name": "stdout",
     "output_type": "stream",
     "text": [
      "/bin/bash\n"
     ]
    }
   ],
   "source": [
    "! echo $SHELL"
   ]
  },
  {
   "cell_type": "code",
   "execution_count": null,
   "id": "29025fc8-20cf-4d27-8f85-19f8cfeca181",
   "metadata": {},
   "outputs": [],
   "source": []
  }
 ],
 "metadata": {
  "kernelspec": {
   "display_name": "Python 3 (ipykernel)",
   "language": "python",
   "name": "python3"
  },
  "language_info": {
   "codemirror_mode": {
    "name": "ipython",
    "version": 3
   },
   "file_extension": ".py",
   "mimetype": "text/x-python",
   "name": "python",
   "nbconvert_exporter": "python",
   "pygments_lexer": "ipython3",
   "version": "3.10.6"
  }
 },
 "nbformat": 4,
 "nbformat_minor": 5
}
