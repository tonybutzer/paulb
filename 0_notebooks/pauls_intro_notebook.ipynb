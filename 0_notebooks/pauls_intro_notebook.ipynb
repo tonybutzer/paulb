{
 "cells": [
  {
   "cell_type": "code",
   "execution_count": 1,
   "id": "ab37989c-9c0d-4166-9dfc-6129a12d5a4e",
   "metadata": {},
   "outputs": [
    {
     "name": "stdout",
     "output_type": "stream",
     "text": [
      "00_aws_credentials_lesson2.ipynb  99_references.ipynb\n",
      "01_smart_bucket_example.ipynb\t  pauls_intro_notebook.ipynb\n"
     ]
    }
   ],
   "source": [
    "! ls"
   ]
  },
  {
   "cell_type": "code",
   "execution_count": 2,
   "id": "4980a01b-47db-4e8f-a6f9-ecb2dc2021eb",
   "metadata": {},
   "outputs": [
    {
     "name": "stdout",
     "output_type": "stream",
     "text": [
      "/data/ec2-user/home/opt/paulb/0_notebooks\n"
     ]
    }
   ],
   "source": [
    "! pwd"
   ]
  },
  {
   "cell_type": "code",
   "execution_count": 3,
   "id": "05be3a0f-3b6c-4901-8859-73ccd91457ff",
   "metadata": {},
   "outputs": [
    {
     "name": "stdout",
     "output_type": "stream",
     "text": [
      "jupyter-core              4.11.1                   pypi_0    pypi\n",
      "jupyter-server-proxy      3.2.2              pyhd8ed1ab_0    conda-forge\n",
      "jupyter_client            7.3.4              pyhd8ed1ab_0    conda-forge\n",
      "jupyter_core              4.11.1          py310hff52083_0    conda-forge\n",
      "jupyter_server            1.18.1             pyhd8ed1ab_0    conda-forge\n",
      "jupyterlab                3.4.7              pyhd8ed1ab_0    conda-forge\n",
      "jupyterlab_pygments       0.2.2              pyhd8ed1ab_0    conda-forge\n",
      "jupyterlab_server         2.15.1             pyhd8ed1ab_0    conda-forge\n"
     ]
    }
   ],
   "source": [
    "! conda list | grep jup"
   ]
  },
  {
   "cell_type": "code",
   "execution_count": 4,
   "id": "a735cff3-928a-4eea-83b6-addf249a230e",
   "metadata": {},
   "outputs": [
    {
     "name": "stdout",
     "output_type": "stream",
     "text": [
      "2021-08-12 13:58:45 dev-eccoe-terraform-state\n",
      "2021-08-24 22:04:05 dev-usgs-eccoe-terraform-state\n",
      "2022-02-18 19:11:42 eccoe-lidar\n",
      "2022-02-03 15:01:48 eccoe-scratch\n"
     ]
    }
   ],
   "source": [
    "! aws s3 ls | grep eccoe-"
   ]
  },
  {
   "cell_type": "code",
   "execution_count": 5,
   "id": "d3d886c1-acfc-4dc1-a006-7add316461d1",
   "metadata": {},
   "outputs": [
    {
     "name": "stdout",
     "output_type": "stream",
     "text": [
      "    inet 10.12.70.167/23 brd 10.12.71.255 scope global dynamic eth0\n"
     ]
    }
   ],
   "source": [
    "! ip a | grep 10.12"
   ]
  },
  {
   "cell_type": "code",
   "execution_count": null,
   "id": "46b0c8b7-9ab6-4900-bc41-9cd8660f2297",
   "metadata": {},
   "outputs": [],
   "source": []
  }
 ],
 "metadata": {
  "kernelspec": {
   "display_name": "Python 3 (ipykernel)",
   "language": "python",
   "name": "python3"
  },
  "language_info": {
   "codemirror_mode": {
    "name": "ipython",
    "version": 3
   },
   "file_extension": ".py",
   "mimetype": "text/x-python",
   "name": "python",
   "nbconvert_exporter": "python",
   "pygments_lexer": "ipython3",
   "version": "3.10.6"
  }
 },
 "nbformat": 4,
 "nbformat_minor": 5
}
